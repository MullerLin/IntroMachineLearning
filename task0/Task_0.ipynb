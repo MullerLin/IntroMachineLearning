{
 "cells": [
  {
   "cell_type": "code",
   "execution_count": 1,
   "id": "d908cda2",
   "metadata": {},
   "outputs": [],
   "source": [
    "import pandas as pd\n",
    "from sklearn.metrics import mean_squared_error"
   ]
  },
  {
   "cell_type": "code",
   "execution_count": 2,
   "id": "b3b825e0",
   "metadata": {},
   "outputs": [],
   "source": [
    "Train_file = \"train.csv\"\n",
    "Test_file = \"test.csv\""
   ]
  },
  {
   "cell_type": "code",
   "execution_count": 3,
   "id": "25a11ced",
   "metadata": {},
   "outputs": [],
   "source": [
    "Train_data = pd.read_csv(Train_file)"
   ]
  },
  {
   "cell_type": "markdown",
   "id": "f1cbc570",
   "metadata": {},
   "source": [
    "### Step 1：Train "
   ]
  },
  {
   "cell_type": "code",
   "execution_count": 9,
   "id": "46a161ae",
   "metadata": {},
   "outputs": [],
   "source": [
    "train_ID = Train_data.Id\n",
    "train_y = Train_data.y\n",
    "train_xi = Train_data.iloc[:,2:]\n",
    "y_pred = train_xi.mean(axis = 1)"
   ]
  },
  {
   "cell_type": "markdown",
   "id": "332659ae",
   "metadata": {},
   "source": [
    "### Step 2: Evaluation"
   ]
  },
  {
   "cell_type": "code",
   "execution_count": 10,
   "id": "8b444f70",
   "metadata": {},
   "outputs": [
    {
     "name": "stdout",
     "output_type": "stream",
     "text": [
      "5.0655987678336215e-14\n"
     ]
    }
   ],
   "source": [
    "ERR_MSE = mean_squared_error(train_y, y_pred)**0.5\n",
    "print(ERR_MSE)"
   ]
  },
  {
   "cell_type": "markdown",
   "id": "e4c70a15",
   "metadata": {},
   "source": [
    "### Step 3: Test"
   ]
  },
  {
   "cell_type": "code",
   "execution_count": 11,
   "id": "d31fe435",
   "metadata": {},
   "outputs": [],
   "source": [
    "Test_data = pd.read_csv(Test_file)"
   ]
  },
  {
   "cell_type": "code",
   "execution_count": 14,
   "id": "01cbae7b",
   "metadata": {},
   "outputs": [],
   "source": [
    "test_ID = Test_data.Id\n",
    "test_xi = Test_data.iloc[:,1:]\n",
    "test_y_pred = test_xi.mean(axis = 1)"
   ]
  },
  {
   "cell_type": "markdown",
   "id": "23379826",
   "metadata": {},
   "source": [
    "### Step 4: Save Output "
   ]
  },
  {
   "cell_type": "code",
   "execution_count": 15,
   "id": "c1333027",
   "metadata": {},
   "outputs": [],
   "source": [
    "output = pd.DataFrame({'Id': test_ID, 'y': test_y_pred})\n",
    "output.to_csv('output.csv', index = False)"
   ]
  }
 ],
 "metadata": {
  "kernelspec": {
   "display_name": "IML",
   "language": "python",
   "name": "iml"
  },
  "language_info": {
   "codemirror_mode": {
    "name": "ipython",
    "version": 3
   },
   "file_extension": ".py",
   "mimetype": "text/x-python",
   "name": "python",
   "nbconvert_exporter": "python",
   "pygments_lexer": "ipython3",
   "version": "3.9.16"
  }
 },
 "nbformat": 4,
 "nbformat_minor": 5
}
