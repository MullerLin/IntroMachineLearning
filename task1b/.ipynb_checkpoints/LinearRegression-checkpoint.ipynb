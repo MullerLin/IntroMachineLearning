{
 "cells": [
  {
   "cell_type": "code",
   "execution_count": 1,
   "id": "15e9686b",
   "metadata": {},
   "outputs": [],
   "source": [
    "import numpy as np\n",
    "import pandas as pd\n",
    "from sklearn.linear_model import Lasso,LassoCV,LassoLarsCV"
   ]
  },
  {
   "cell_type": "markdown",
   "id": "d7f9b1cb",
   "metadata": {},
   "source": [
    "## Data Loading"
   ]
  },
  {
   "cell_type": "code",
   "execution_count": 2,
   "id": "fc988173",
   "metadata": {},
   "outputs": [
    {
     "name": "stdout",
     "output_type": "stream",
     "text": [
      "     x1    x2    x3    x4    x5\n",
      "0  0.02  0.05 -0.09 -0.43 -0.08\n",
      "1 -0.13  0.11 -0.08 -0.29 -0.03\n",
      "2  0.08  0.06 -0.07 -0.41 -0.03\n",
      "3  0.02 -0.12  0.01 -0.43 -0.02\n",
      "4 -0.14 -0.12 -0.08 -0.02 -0.08\n"
     ]
    }
   ],
   "source": [
    "    # Data loading\n",
    "    data = pd.read_csv(\"train.csv\")\n",
    "    y = data[\"y\"].to_numpy()\n",
    "    data = data.drop(columns=[\"Id\", \"y\"])\n",
    "    # print a few data samples\n",
    "    print(data.head())\n",
    "\n",
    "    X = data.to_numpy()"
   ]
  },
  {
   "cell_type": "code",
   "execution_count": 18,
   "id": "dffa1273",
   "metadata": {},
   "outputs": [
    {
     "data": {
      "text/plain": [
       "700"
      ]
     },
     "execution_count": 18,
     "metadata": {},
     "output_type": "execute_result"
    }
   ],
   "source": [
    "X[:,0].size"
   ]
  },
  {
   "cell_type": "markdown",
   "id": "577fc90c",
   "metadata": {},
   "source": [
    "## Data transformation"
   ]
  },
  {
   "cell_type": "markdown",
   "id": "4de8f97f",
   "metadata": {},
   "source": [
    "### Test "
   ]
  },
  {
   "cell_type": "code",
   "execution_count": 3,
   "id": "1e5884f3",
   "metadata": {},
   "outputs": [],
   "source": [
    "X_transformed = np.zeros((700, 21))"
   ]
  },
  {
   "cell_type": "code",
   "execution_count": 14,
   "id": "408b8c90",
   "metadata": {},
   "outputs": [
    {
     "data": {
      "text/plain": [
       "(700,)"
      ]
     },
     "execution_count": 14,
     "metadata": {},
     "output_type": "execute_result"
    }
   ],
   "source": [
    "X_transformed[:,0].shape"
   ]
  },
  {
   "cell_type": "code",
   "execution_count": 23,
   "id": "a4d38a41",
   "metadata": {},
   "outputs": [],
   "source": [
    "# Linear\n",
    "X_transformed[:,0:5] = X"
   ]
  },
  {
   "cell_type": "code",
   "execution_count": 31,
   "id": "2484fd17",
   "metadata": {},
   "outputs": [],
   "source": [
    "# Quadratic\n",
    "X_transformed[:,5:10] = np.multiply(X, X)"
   ]
  },
  {
   "cell_type": "code",
   "execution_count": 29,
   "id": "e984c4e9",
   "metadata": {},
   "outputs": [],
   "source": [
    "# Exponential\n",
    "X_transformed[:,10:15] = np.exp(X)"
   ]
  },
  {
   "cell_type": "code",
   "execution_count": 33,
   "id": "01226c0d",
   "metadata": {},
   "outputs": [],
   "source": [
    "# Cosine\n",
    "X_transformed[:,15:20] = np.cos(X)"
   ]
  },
  {
   "cell_type": "code",
   "execution_count": 34,
   "id": "9a556ace",
   "metadata": {},
   "outputs": [],
   "source": [
    "# Constant\n",
    "X_transformed[:,20] = 1"
   ]
  },
  {
   "cell_type": "code",
   "execution_count": 38,
   "id": "71b549cd",
   "metadata": {},
   "outputs": [
    {
     "data": {
      "text/plain": [
       "array([ 0.02,  0.05, -0.09, -0.43, -0.08])"
      ]
     },
     "execution_count": 38,
     "metadata": {},
     "output_type": "execute_result"
    }
   ],
   "source": [
    "X[0,:]"
   ]
  },
  {
   "cell_type": "code",
   "execution_count": 37,
   "id": "daf7aa23",
   "metadata": {},
   "outputs": [
    {
     "data": {
      "text/plain": [
       "array([ 2.00000000e-02,  5.00000000e-02, -9.00000000e-02, -4.30000000e-01,\n",
       "       -8.00000000e-02,  4.00000000e-04,  2.50000000e-03,  8.10000000e-03,\n",
       "        1.84900000e-01,  6.40000000e-03,  1.02020134e+00,  1.05127110e+00,\n",
       "        9.13931185e-01,  6.50509095e-01,  9.23116346e-01,  9.99800007e-01,\n",
       "        9.98750260e-01,  9.95952733e-01,  9.08965750e-01,  9.96801706e-01,\n",
       "        1.00000000e+00])"
      ]
     },
     "execution_count": 37,
     "metadata": {},
     "output_type": "execute_result"
    }
   ],
   "source": [
    "X_transformed[0,:]"
   ]
  },
  {
   "cell_type": "markdown",
   "id": "d3457254",
   "metadata": {},
   "source": [
    "### Function Implement"
   ]
  },
  {
   "cell_type": "code",
   "execution_count": null,
   "id": "a623e456",
   "metadata": {},
   "outputs": [],
   "source": [
    "## function\n",
    "def transform_data(X):\n",
    "    \"\"\"\n",
    "    This function transforms the 5 input features of matrix X (x_i denoting the i-th component of X) \n",
    "    into 21 new features phi(X) in the following manner:\n",
    "    5 linear features: phi_1(X) = x_1, phi_2(X) = x_2, phi_3(X) = x_3, phi_4(X) = x_4, phi_5(X) = x_5\n",
    "    5 quadratic features: phi_6(X) = x_1^2, phi_7(X) = x_2^2, phi_8(X) = x_3^2, phi_9(X) = x_4^2, phi_10(X) = x_5^2\n",
    "    5 exponential features: phi_11(X) = exp(x_1), phi_12(X) = exp(x_2), phi_13(X) = exp(x_3), phi_14(X) = exp(x_4), phi_15(X) = exp(x_5)\n",
    "    5 cosine features: phi_16(X) = cos(x_1), phi_17(X) = cos(x_2), phi_18(X) = cos(x_3), phi_19(X) = cos(x_4), phi_20(X) = cos(x_5)\n",
    "    1 constant features: phi_21(X)=1\n",
    "\n",
    "    Parameters\n",
    "    ----------\n",
    "    X: matrix of floats, dim = (700,5), inputs with 5 features\n",
    "\n",
    "    Returns\n",
    "    ----------\n",
    "    X_transformed: array of floats: dim = (700,21), transformed input with 21 features\n",
    "    \"\"\"\n",
    "    X_transformed = np.zeros((700, 21))\n",
    "    # TODO: Enter your code here\n",
    "    # Linear\n",
    "    X_transformed[:,0:5] = X\n",
    "    # Quadratic\n",
    "    X_transformed[:,5:10] = np.multiply(X, X)\n",
    "    # Exponential\n",
    "    X_transformed[:,10:15] = np.exp(X)\n",
    "    # Cosine\n",
    "    X_transformed[:,15:20] = np.cos(X)\n",
    "    # Constant\n",
    "    X_transformed[:,20] = 1\n",
    "    assert X_transformed.shape == (700, 21)\n",
    "    return X_transformed\n",
    "\n"
   ]
  },
  {
   "cell_type": "code",
   "execution_count": null,
   "id": "b8e65e06",
   "metadata": {},
   "outputs": [],
   "source": []
  },
  {
   "cell_type": "code",
   "execution_count": null,
   "id": "d5458d0a",
   "metadata": {},
   "outputs": [],
   "source": []
  }
 ],
 "metadata": {
  "kernelspec": {
   "display_name": "Python [conda env:PAIML]",
   "language": "python",
   "name": "conda-env-PAIML-py"
  },
  "language_info": {
   "codemirror_mode": {
    "name": "ipython",
    "version": 3
   },
   "file_extension": ".py",
   "mimetype": "text/x-python",
   "name": "python",
   "nbconvert_exporter": "python",
   "pygments_lexer": "ipython3",
   "version": "3.9.16"
  }
 },
 "nbformat": 4,
 "nbformat_minor": 5
}
