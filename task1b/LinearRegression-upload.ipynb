{
 "cells": [
  {
   "cell_type": "code",
   "execution_count": 1,
   "id": "2d116797",
   "metadata": {},
   "outputs": [],
   "source": [
    "import numpy as np\n",
    "import pandas as pd\n",
    "from sklearn.linear_model import Lasso,LassoCV,LassoLarsCV, RidgeCV, SGDRegressor\n",
    "from sklearn.model_selection import train_test_split, KFold\n",
    "from sklearn.metrics import mean_squared_error"
   ]
  },
  {
   "cell_type": "markdown",
   "id": "20d5a037",
   "metadata": {},
   "source": [
    "## Data Loading"
   ]
  },
  {
   "cell_type": "code",
   "execution_count": null,
   "id": "6e624db4",
   "metadata": {},
   "outputs": [],
   "source": [
    "    # Data loading\n",
    "    data = pd.read_csv(\"train.csv\")\n",
    "    y = data[\"y\"].to_numpy()\n",
    "    data = data.drop(columns=[\"Id\", \"y\"])\n",
    "    # print a few data samples\n",
    "    print(data.head())\n",
    "\n",
    "    X = data.to_numpy()"
   ]
  },
  {
   "cell_type": "code",
   "execution_count": null,
   "id": "4615035a",
   "metadata": {},
   "outputs": [],
   "source": [
    "X[:,0].size"
   ]
  },
  {
   "cell_type": "markdown",
   "id": "8bb1ad61",
   "metadata": {},
   "source": [
    "## function "
   ]
  },
  {
   "cell_type": "code",
   "execution_count": null,
   "id": "67d40b91",
   "metadata": {},
   "outputs": [],
   "source": [
    "def calculate_RMSE(w, X, y):\n",
    "    \"\"\"This function takes test data points (X and y), and computes the empirical RMSE of \n",
    "    predicting y from X using a linear model with weights w. \n",
    "\n",
    "    Parameters\n",
    "    ----------\n",
    "    w: array of floats: dim = (13,), optimal parameters of ridge regression \n",
    "    X: matrix of floats, dim = (15,13), inputs with 13 features\n",
    "    y: array of floats, dim = (15,), input labels\n",
    "\n",
    "    Returns\n",
    "    ----------\n",
    "    RMSE: float: dim = 1, RMSE value\n",
    "    \"\"\"\n",
    "    RMSE = 0\n",
    "    # TODO: Enter your code here\n",
    "#     y_pred = X @ w\n",
    "#     RMSE = sqrt(np.sum(y - y_pred) ** 2)\n",
    "    y_pred = np.matmul(X, w)\n",
    "    RMSE = mean_squared_error(y, y_pred, squared=False)\n",
    "    assert np.isscalar(RMSE)\n",
    "    return RMSE"
   ]
  },
  {
   "cell_type": "markdown",
   "id": "26790292",
   "metadata": {},
   "source": [
    "## Data transformation"
   ]
  },
  {
   "cell_type": "markdown",
   "id": "5e443933",
   "metadata": {},
   "source": [
    "### Test "
   ]
  },
  {
   "cell_type": "code",
   "execution_count": null,
   "id": "1e176ba1",
   "metadata": {},
   "outputs": [],
   "source": [
    "X_transformed = np.zeros((700, 21))"
   ]
  },
  {
   "cell_type": "code",
   "execution_count": null,
   "id": "36f4e752",
   "metadata": {},
   "outputs": [],
   "source": [
    "X_transformed[:,0].shape"
   ]
  },
  {
   "cell_type": "code",
   "execution_count": null,
   "id": "82e74f2f",
   "metadata": {},
   "outputs": [],
   "source": [
    "# Linear\n",
    "X_transformed[:,0:5] = X"
   ]
  },
  {
   "cell_type": "code",
   "execution_count": null,
   "id": "3b5288e5",
   "metadata": {},
   "outputs": [],
   "source": [
    "# Quadratic\n",
    "X_transformed[:,5:10] = np.multiply(X, X)"
   ]
  },
  {
   "cell_type": "code",
   "execution_count": null,
   "id": "fd22e0c3",
   "metadata": {},
   "outputs": [],
   "source": [
    "# Exponential\n",
    "X_transformed[:,10:15] = np.exp(X)"
   ]
  },
  {
   "cell_type": "code",
   "execution_count": null,
   "id": "0a53e924",
   "metadata": {},
   "outputs": [],
   "source": [
    "# Cosine\n",
    "X_transformed[:,15:20] = np.cos(X)"
   ]
  },
  {
   "cell_type": "code",
   "execution_count": null,
   "id": "861f67de",
   "metadata": {},
   "outputs": [],
   "source": [
    "# Constant\n",
    "X_transformed[:,20] = 1"
   ]
  },
  {
   "cell_type": "code",
   "execution_count": null,
   "id": "ff2de857",
   "metadata": {},
   "outputs": [],
   "source": [
    "X[0,:]"
   ]
  },
  {
   "cell_type": "code",
   "execution_count": null,
   "id": "d5fd3d8a",
   "metadata": {},
   "outputs": [],
   "source": [
    "X_transformed[0,:]"
   ]
  },
  {
   "cell_type": "markdown",
   "id": "d272b76f",
   "metadata": {},
   "source": [
    "### Function Implement"
   ]
  },
  {
   "cell_type": "code",
   "execution_count": null,
   "id": "a6dfc61f",
   "metadata": {},
   "outputs": [],
   "source": [
    "## function\n",
    "def transform_data(X):\n",
    "    \"\"\"\n",
    "    This function transforms the 5 input features of matrix X (x_i denoting the i-th component of X) \n",
    "    into 21 new features phi(X) in the following manner:\n",
    "    5 linear features: phi_1(X) = x_1, phi_2(X) = x_2, phi_3(X) = x_3, phi_4(X) = x_4, phi_5(X) = x_5\n",
    "    5 quadratic features: phi_6(X) = x_1^2, phi_7(X) = x_2^2, phi_8(X) = x_3^2, phi_9(X) = x_4^2, phi_10(X) = x_5^2\n",
    "    5 exponential features: phi_11(X) = exp(x_1), phi_12(X) = exp(x_2), phi_13(X) = exp(x_3), phi_14(X) = exp(x_4), phi_15(X) = exp(x_5)\n",
    "    5 cosine features: phi_16(X) = cos(x_1), phi_17(X) = cos(x_2), phi_18(X) = cos(x_3), phi_19(X) = cos(x_4), phi_20(X) = cos(x_5)\n",
    "    1 constant features: phi_21(X)=1\n",
    "\n",
    "    Parameters\n",
    "    ----------\n",
    "    X: matrix of floats, dim = (700,5), inputs with 5 features\n",
    "\n",
    "    Returns\n",
    "    ----------\n",
    "    X_transformed: array of floats: dim = (700,21), transformed input with 21 features\n",
    "    \"\"\"\n",
    "    X_transformed = np.zeros((700, 21))\n",
    "    # TODO: Enter your code here\n",
    "    # Linear\n",
    "    X_transformed[:,0:5] = X\n",
    "    # Quadratic\n",
    "    X_transformed[:,5:10] = np.multiply(X, X)\n",
    "    # Exponential\n",
    "    X_transformed[:,10:15] = np.exp(X)\n",
    "    # Cosine\n",
    "    X_transformed[:,15:20] = np.cos(X)\n",
    "    # Constant\n",
    "    X_transformed[:,20] = 1\n",
    "    assert X_transformed.shape == (700, 21)\n",
    "    return X_transformed\n",
    "\n"
   ]
  },
  {
   "cell_type": "code",
   "execution_count": null,
   "id": "e9ed4ba2",
   "metadata": {},
   "outputs": [],
   "source": []
  },
  {
   "cell_type": "markdown",
   "id": "e2fd5c64",
   "metadata": {},
   "source": [
    "##  Fit"
   ]
  },
  {
   "cell_type": "markdown",
   "id": "c7db353e",
   "metadata": {},
   "source": [
    "### Test"
   ]
  },
  {
   "cell_type": "code",
   "execution_count": null,
   "id": "19239ea5",
   "metadata": {},
   "outputs": [],
   "source": [
    "weight = np.zeros((21,))"
   ]
  },
  {
   "cell_type": "code",
   "execution_count": null,
   "id": "aa0fe5fe",
   "metadata": {},
   "outputs": [],
   "source": [
    "# 划分测试集和训练集\n",
    "xtrain,xtest,ytrain,ytest = train_test_split(X_transformed, y, test_size=0.3)"
   ]
  },
  {
   "cell_type": "code",
   "execution_count": null,
   "id": "97d8a892",
   "metadata": {},
   "outputs": [],
   "source": [
    "# 自己建立Lasso进行alpha选择的范围\n",
    "# 形成10为底的指数函数\n",
    "# 10**（-10） -10**（-2）\n",
    "alpha_range = np.logspace(-10, 2, 5000, base=10)\n",
    "# print(alpha_range) # 200个自定义的alpha值"
   ]
  },
  {
   "cell_type": "code",
   "execution_count": null,
   "id": "59660672",
   "metadata": {},
   "outputs": [],
   "source": [
    "alpha_range"
   ]
  },
  {
   "cell_type": "markdown",
   "id": "fc4318b0",
   "metadata": {},
   "source": [
    "### Lasso "
   ]
  },
  {
   "cell_type": "code",
   "execution_count": null,
   "id": "04304bc8",
   "metadata": {},
   "outputs": [],
   "source": [
    "Lasso?"
   ]
  },
  {
   "cell_type": "code",
   "execution_count": null,
   "id": "4df330a3",
   "metadata": {},
   "outputs": [],
   "source": [
    "lasso = Lasso(max_iter = 10000, alpha = 0.003, random_state = 99).fit(xtrain,ytrain)"
   ]
  },
  {
   "cell_type": "code",
   "execution_count": null,
   "id": "826810bc",
   "metadata": {},
   "outputs": [],
   "source": [
    "calculate_RMSE(lasso.coef_, xtest, ytest)"
   ]
  },
  {
   "cell_type": "markdown",
   "id": "a16b64c1",
   "metadata": {},
   "source": [
    "### LassoCV"
   ]
  },
  {
   "cell_type": "code",
   "execution_count": null,
   "id": "0eaa46f5",
   "metadata": {},
   "outputs": [],
   "source": [
    "lasso_ = LassoCV(alphas=alpha_range,random_state = 99, cv=5).fit(xtrain,ytrain)"
   ]
  },
  {
   "cell_type": "code",
   "execution_count": null,
   "id": "2e49a864",
   "metadata": {},
   "outputs": [],
   "source": [
    "lasso_2 = LassoCV(alphas=alpha_range,random_state = 99, cv=5).fit(X_transformed, y)"
   ]
  },
  {
   "cell_type": "code",
   "execution_count": null,
   "id": "4abe3908",
   "metadata": {},
   "outputs": [],
   "source": [
    "# 查看最佳正则化系数\n",
    "best_alpha = lasso_2.alpha_ "
   ]
  },
  {
   "cell_type": "code",
   "execution_count": null,
   "id": "878cafe7",
   "metadata": {},
   "outputs": [],
   "source": [
    "best_alpha"
   ]
  },
  {
   "cell_type": "code",
   "execution_count": null,
   "id": "d3524c30",
   "metadata": {},
   "outputs": [],
   "source": [
    "calculate_RMSE(lasso_2.coef_, xtest, ytest)"
   ]
  },
  {
   "cell_type": "code",
   "execution_count": null,
   "id": "bfe1c844",
   "metadata": {},
   "outputs": [],
   "source": [
    "calculate_RMSE(lasso_.coef_, xtest, ytest)"
   ]
  },
  {
   "cell_type": "markdown",
   "id": "9314da05",
   "metadata": {},
   "source": [
    "### Linear"
   ]
  },
  {
   "cell_type": "code",
   "execution_count": null,
   "id": "86f1997a",
   "metadata": {},
   "outputs": [],
   "source": [
    "Linear_ = LinearRegression(fit_intercept=False)"
   ]
  },
  {
   "cell_type": "code",
   "execution_count": null,
   "id": "aa4cf43c",
   "metadata": {},
   "outputs": [],
   "source": [
    "Linear_.fit(xtrain,ytrain)"
   ]
  },
  {
   "cell_type": "code",
   "execution_count": null,
   "id": "badcd387",
   "metadata": {},
   "outputs": [],
   "source": [
    "calculate_RMSE(Linear_.coef_, xtest, ytest)"
   ]
  },
  {
   "cell_type": "code",
   "execution_count": null,
   "id": "5e52ec72",
   "metadata": {},
   "outputs": [],
   "source": [
    "LinearRegression?"
   ]
  },
  {
   "cell_type": "markdown",
   "id": "f5a6f1b3",
   "metadata": {},
   "source": [
    "### Ridge "
   ]
  },
  {
   "cell_type": "code",
   "execution_count": null,
   "id": "eebb8101",
   "metadata": {},
   "outputs": [],
   "source": [
    "ridge_ = RidgeCV(alphas=alpha_range,cv=5).fit(xtrain,ytrain)"
   ]
  },
  {
   "cell_type": "code",
   "execution_count": null,
   "id": "571ab283",
   "metadata": {},
   "outputs": [],
   "source": [
    "ridge_2 = RidgeCV(alphas=alpha_range,cv=5).fit(X_transformed, y)"
   ]
  },
  {
   "cell_type": "code",
   "execution_count": null,
   "id": "d85c1639",
   "metadata": {},
   "outputs": [],
   "source": [
    "ridge_.alpha_"
   ]
  },
  {
   "cell_type": "code",
   "execution_count": null,
   "id": "152b05e7",
   "metadata": {},
   "outputs": [],
   "source": [
    "ridge_.coef_"
   ]
  },
  {
   "cell_type": "code",
   "execution_count": null,
   "id": "bfc2f38c",
   "metadata": {},
   "outputs": [],
   "source": [
    "calculate_RMSE(ridge_.coef_, xtest, ytest)"
   ]
  },
  {
   "cell_type": "code",
   "execution_count": null,
   "id": "77d88904",
   "metadata": {},
   "outputs": [],
   "source": [
    "ridge_2.alpha_"
   ]
  },
  {
   "cell_type": "code",
   "execution_count": null,
   "id": "7b2036ff",
   "metadata": {},
   "outputs": [],
   "source": [
    "ridge_2.coef_"
   ]
  },
  {
   "cell_type": "code",
   "execution_count": null,
   "id": "445b4996",
   "metadata": {},
   "outputs": [],
   "source": [
    "calculate_RMSE(ridge_2.coef_, xtest, ytest)"
   ]
  },
  {
   "cell_type": "markdown",
   "id": "ee12e374",
   "metadata": {},
   "source": [
    "### SGDRegressor "
   ]
  },
  {
   "cell_type": "code",
   "execution_count": null,
   "id": "f5ef089c",
   "metadata": {},
   "outputs": [],
   "source": [
    "SGDRegressor?"
   ]
  },
  {
   "cell_type": "code",
   "execution_count": null,
   "id": "3d071e58",
   "metadata": {},
   "outputs": [],
   "source": [
    "SGD = SGDRegressor(loss='squared_error', penalty='l2', fit_intercept=False, random_state=0)"
   ]
  },
  {
   "cell_type": "code",
   "execution_count": null,
   "id": "30168971",
   "metadata": {},
   "outputs": [],
   "source": [
    "SGD.fit(X_transformed, y)"
   ]
  },
  {
   "cell_type": "code",
   "execution_count": null,
   "id": "b449e413",
   "metadata": {},
   "outputs": [],
   "source": [
    "calculate_RMSE(SGD.coef_, xtest, ytest)"
   ]
  },
  {
   "cell_type": "markdown",
   "id": "d8a9b0f7",
   "metadata": {},
   "source": [
    "### SGDRegressor CV"
   ]
  },
  {
   "cell_type": "code",
   "execution_count": null,
   "id": "f242f916",
   "metadata": {},
   "outputs": [],
   "source": [
    "loss_range = ['squared_error',  'epsilon_insensitive',  'squared_epsilon_insensitive', 'huber']\n",
    "penalty_range = ['l1',  'l2']\n",
    "n_folds = 10"
   ]
  },
  {
   "cell_type": "code",
   "execution_count": null,
   "id": "0a91a199",
   "metadata": {},
   "outputs": [],
   "source": [
    "loss_range[1]"
   ]
  },
  {
   "cell_type": "code",
   "execution_count": null,
   "id": "30fb966b",
   "metadata": {},
   "outputs": [],
   "source": [
    "for loss in loss_range:\n",
    "    for penalty in penalty_range:\n",
    "        SGD = SGDRegressor(loss=loss, penalty=penalty, fit_intercept=False, random_state=0).fit(xtrain, ytrain)\n",
    "        print(loss)\n",
    "        print(penalty)\n",
    "        print(calculate_RMSE(SGD.coef_, xtest, ytest))"
   ]
  },
  {
   "cell_type": "code",
   "execution_count": null,
   "id": "ab514b12",
   "metadata": {},
   "outputs": [],
   "source": [
    "def fit_SGD(X, y, loss, penalty):\n",
    "\n",
    "    w = np.zeros((13,))\n",
    "    # TODO: Enter your code here\n",
    "    SGD = SGDRegressor(loss=loss, penalty=penalty, fit_intercept=False, random_state=0).fit(xtrain, ytrain)\n",
    "    w = SGD.coef_\n",
    "    assert w.shape == (21,)\n",
    "    return w"
   ]
  },
  {
   "cell_type": "code",
   "execution_count": null,
   "id": "9df93846",
   "metadata": {},
   "outputs": [],
   "source": [
    "def select_model(X, y, loss_range, penalty_range, n_folds):\n",
    "    RMSE_mat = np.zeros((n_folds, len(loss_range), len(penalty_range)))\n",
    "    kf = KFold(n_splits = n_folds)\n",
    "    for index_loss, loss in enumerate(loss_range):\n",
    "        for index_pen,penalty in enumerate(penalty_range):\n",
    "            index_kSet = 0\n",
    "            for train_index, valid_index in kf.split(X):\n",
    "                weight = fit_SGD(X[train_index], y[train_index], loss, penalty)\n",
    "                RMSE = calculate_RMSE(weight, X[valid_index], y[valid_index])\n",
    "                RMSE_mat[index_kSet, index_loss, index_pen] = RMSE\n",
    "                index_kSet= index_kSet + 1\n",
    "                        \n",
    "    avg_RMSE = np.mean(RMSE_mat, axis=0)\n",
    "    best_para = [loss_range[np.argmin([avg_RMSE])%3], penalty_range[np.argmin([avg_RMSE])%2]]\n",
    "    return avg_RMSE, best_para"
   ]
  },
  {
   "cell_type": "code",
   "execution_count": null,
   "id": "f5b39842",
   "metadata": {},
   "outputs": [],
   "source": [
    "avg_RMSE,best_para = select_model(X_transformed, y, loss_range, penalty_range, n_folds)"
   ]
  },
  {
   "cell_type": "code",
   "execution_count": null,
   "id": "e0ac2871",
   "metadata": {},
   "outputs": [],
   "source": [
    "avg_RMSE"
   ]
  },
  {
   "cell_type": "code",
   "execution_count": null,
   "id": "6df65ad4",
   "metadata": {},
   "outputs": [],
   "source": [
    "best_para"
   ]
  },
  {
   "cell_type": "code",
   "execution_count": null,
   "id": "74ae9e15",
   "metadata": {},
   "outputs": [],
   "source": [
    "w_SGD = SGDRegressor(loss = best_para[0], penalty = best_para[1], fit_intercept=False, random_state=0).fit(X_transformed, y)"
   ]
  },
  {
   "cell_type": "code",
   "execution_count": null,
   "id": "c2fbae82",
   "metadata": {},
   "outputs": [],
   "source": [
    "w_SGD"
   ]
  },
  {
   "cell_type": "markdown",
   "id": "3fe1e795",
   "metadata": {},
   "source": [
    "### Function Implement "
   ]
  },
  {
   "cell_type": "code",
   "execution_count": null,
   "id": "8676797a",
   "metadata": {},
   "outputs": [],
   "source": [
    "w = w_SGD"
   ]
  },
  {
   "cell_type": "code",
   "execution_count": null,
   "id": "adccad63",
   "metadata": {},
   "outputs": [],
   "source": [
    "np.savetxt(\"./results.csv\", w, fmt=\"%.12f\")"
   ]
  },
  {
   "cell_type": "code",
   "execution_count": null,
   "id": "b7168cd5",
   "metadata": {},
   "outputs": [],
   "source": [
    "w"
   ]
  },
  {
   "cell_type": "code",
   "execution_count": null,
   "id": "81f8f875",
   "metadata": {},
   "outputs": [],
   "source": []
  },
  {
   "cell_type": "markdown",
   "id": "d795be11",
   "metadata": {},
   "source": [
    "[ 6.62159306 -5.21058439 -1.36003242  7.06248808 -0.52948709 -0.2185518\n",
    "  2.13810967  3.76680927  2.71728928  7.5252329  -6.94040494  3.68717124\n",
    " -0.87612654 -7.12829856  2.42435479  2.32225476  0.15700074  0.05849815\n",
    " -0.40078346 -1.42872466  1.6447392 ]"
   ]
  },
  {
   "cell_type": "code",
   "execution_count": null,
   "id": "99bbbc8a",
   "metadata": {},
   "outputs": [],
   "source": [
    "w_r = np.array([ 6.62159306, -5.21058439, -1.36003242,  7.06248808, -0.52948709, -0.2185518,\n",
    "  2.13810967,  3.76680927,  2.71728928,  7.5252329,  -6.94040494,  3.68717124,\n",
    " -0.87612654, -7.12829856,  2.42435479,  2.32225476,  0.15700074,  0.05849815,\n",
    " -0.40078346, -1.42872466,  1.6447392])"
   ]
  },
  {
   "cell_type": "code",
   "execution_count": null,
   "id": "001c47b9",
   "metadata": {},
   "outputs": [],
   "source": [
    "calculate_RMSE(w_r, xtest, ytest)"
   ]
  },
  {
   "cell_type": "code",
   "execution_count": null,
   "id": "12455ed3",
   "metadata": {},
   "outputs": [],
   "source": []
  }
 ],
 "metadata": {
  "kernelspec": {
   "display_name": "Python [conda env:PAIML]",
   "language": "python",
   "name": "conda-env-PAIML-py"
  },
  "language_info": {
   "codemirror_mode": {
    "name": "ipython",
    "version": 3
   },
   "file_extension": ".py",
   "mimetype": "text/x-python",
   "name": "python",
   "nbconvert_exporter": "python",
   "pygments_lexer": "ipython3",
   "version": "3.9.16"
  }
 },
 "nbformat": 4,
 "nbformat_minor": 5
}
