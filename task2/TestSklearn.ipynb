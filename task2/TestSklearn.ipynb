{
 "cells": [
  {
   "cell_type": "code",
   "execution_count": 76,
   "id": "27206edd",
   "metadata": {},
   "outputs": [],
   "source": [
    "import numpy as np\n",
    "import pandas as pd\n",
    "from sklearn.preprocessing import OneHotEncoder\n",
    "from sklearn.impute import KNNImputer"
   ]
  },
  {
   "cell_type": "markdown",
   "id": "f311f897",
   "metadata": {},
   "source": [
    "## data read "
   ]
  },
  {
   "cell_type": "code",
   "execution_count": 22,
   "id": "aa3ba3d8",
   "metadata": {},
   "outputs": [],
   "source": [
    "    # Load training data\n",
    "    train_df = pd.read_csv(\"train.csv\")\n",
    "     # Load test data\n",
    "    test_df = pd.read_csv(\"test.csv\")   "
   ]
  },
  {
   "cell_type": "markdown",
   "id": "d90911bc",
   "metadata": {},
   "source": [
    "# one_hot encoder"
   ]
  },
  {
   "cell_type": "markdown",
   "id": "69d6f007",
   "metadata": {},
   "source": [
    "### Sklearn encoder"
   ]
  },
  {
   "cell_type": "code",
   "execution_count": 2,
   "id": "3166912a",
   "metadata": {},
   "outputs": [],
   "source": [
    "enc = OneHotEncoder(handle_unknown='ignore')"
   ]
  },
  {
   "cell_type": "code",
   "execution_count": 3,
   "id": "182a336a",
   "metadata": {},
   "outputs": [],
   "source": [
    "X = [['Male', 1], ['Female', 3], ['Female', 2]]"
   ]
  },
  {
   "cell_type": "code",
   "execution_count": 4,
   "id": "1fb6a13d",
   "metadata": {},
   "outputs": [
    {
     "data": {
      "text/html": [
       "<style>#sk-container-id-1 {color: black;background-color: white;}#sk-container-id-1 pre{padding: 0;}#sk-container-id-1 div.sk-toggleable {background-color: white;}#sk-container-id-1 label.sk-toggleable__label {cursor: pointer;display: block;width: 100%;margin-bottom: 0;padding: 0.3em;box-sizing: border-box;text-align: center;}#sk-container-id-1 label.sk-toggleable__label-arrow:before {content: \"▸\";float: left;margin-right: 0.25em;color: #696969;}#sk-container-id-1 label.sk-toggleable__label-arrow:hover:before {color: black;}#sk-container-id-1 div.sk-estimator:hover label.sk-toggleable__label-arrow:before {color: black;}#sk-container-id-1 div.sk-toggleable__content {max-height: 0;max-width: 0;overflow: hidden;text-align: left;background-color: #f0f8ff;}#sk-container-id-1 div.sk-toggleable__content pre {margin: 0.2em;color: black;border-radius: 0.25em;background-color: #f0f8ff;}#sk-container-id-1 input.sk-toggleable__control:checked~div.sk-toggleable__content {max-height: 200px;max-width: 100%;overflow: auto;}#sk-container-id-1 input.sk-toggleable__control:checked~label.sk-toggleable__label-arrow:before {content: \"▾\";}#sk-container-id-1 div.sk-estimator input.sk-toggleable__control:checked~label.sk-toggleable__label {background-color: #d4ebff;}#sk-container-id-1 div.sk-label input.sk-toggleable__control:checked~label.sk-toggleable__label {background-color: #d4ebff;}#sk-container-id-1 input.sk-hidden--visually {border: 0;clip: rect(1px 1px 1px 1px);clip: rect(1px, 1px, 1px, 1px);height: 1px;margin: -1px;overflow: hidden;padding: 0;position: absolute;width: 1px;}#sk-container-id-1 div.sk-estimator {font-family: monospace;background-color: #f0f8ff;border: 1px dotted black;border-radius: 0.25em;box-sizing: border-box;margin-bottom: 0.5em;}#sk-container-id-1 div.sk-estimator:hover {background-color: #d4ebff;}#sk-container-id-1 div.sk-parallel-item::after {content: \"\";width: 100%;border-bottom: 1px solid gray;flex-grow: 1;}#sk-container-id-1 div.sk-label:hover label.sk-toggleable__label {background-color: #d4ebff;}#sk-container-id-1 div.sk-serial::before {content: \"\";position: absolute;border-left: 1px solid gray;box-sizing: border-box;top: 0;bottom: 0;left: 50%;z-index: 0;}#sk-container-id-1 div.sk-serial {display: flex;flex-direction: column;align-items: center;background-color: white;padding-right: 0.2em;padding-left: 0.2em;position: relative;}#sk-container-id-1 div.sk-item {position: relative;z-index: 1;}#sk-container-id-1 div.sk-parallel {display: flex;align-items: stretch;justify-content: center;background-color: white;position: relative;}#sk-container-id-1 div.sk-item::before, #sk-container-id-1 div.sk-parallel-item::before {content: \"\";position: absolute;border-left: 1px solid gray;box-sizing: border-box;top: 0;bottom: 0;left: 50%;z-index: -1;}#sk-container-id-1 div.sk-parallel-item {display: flex;flex-direction: column;z-index: 1;position: relative;background-color: white;}#sk-container-id-1 div.sk-parallel-item:first-child::after {align-self: flex-end;width: 50%;}#sk-container-id-1 div.sk-parallel-item:last-child::after {align-self: flex-start;width: 50%;}#sk-container-id-1 div.sk-parallel-item:only-child::after {width: 0;}#sk-container-id-1 div.sk-dashed-wrapped {border: 1px dashed gray;margin: 0 0.4em 0.5em 0.4em;box-sizing: border-box;padding-bottom: 0.4em;background-color: white;}#sk-container-id-1 div.sk-label label {font-family: monospace;font-weight: bold;display: inline-block;line-height: 1.2em;}#sk-container-id-1 div.sk-label-container {text-align: center;}#sk-container-id-1 div.sk-container {/* jupyter's `normalize.less` sets `[hidden] { display: none; }` but bootstrap.min.css set `[hidden] { display: none !important; }` so we also need the `!important` here to be able to override the default hidden behavior on the sphinx rendered scikit-learn.org. See: https://github.com/scikit-learn/scikit-learn/issues/21755 */display: inline-block !important;position: relative;}#sk-container-id-1 div.sk-text-repr-fallback {display: none;}</style><div id=\"sk-container-id-1\" class=\"sk-top-container\"><div class=\"sk-text-repr-fallback\"><pre>OneHotEncoder(handle_unknown=&#x27;ignore&#x27;)</pre><b>In a Jupyter environment, please rerun this cell to show the HTML representation or trust the notebook. <br />On GitHub, the HTML representation is unable to render, please try loading this page with nbviewer.org.</b></div><div class=\"sk-container\" hidden><div class=\"sk-item\"><div class=\"sk-estimator sk-toggleable\"><input class=\"sk-toggleable__control sk-hidden--visually\" id=\"sk-estimator-id-1\" type=\"checkbox\" checked><label for=\"sk-estimator-id-1\" class=\"sk-toggleable__label sk-toggleable__label-arrow\">OneHotEncoder</label><div class=\"sk-toggleable__content\"><pre>OneHotEncoder(handle_unknown=&#x27;ignore&#x27;)</pre></div></div></div></div></div>"
      ],
      "text/plain": [
       "OneHotEncoder(handle_unknown='ignore')"
      ]
     },
     "execution_count": 4,
     "metadata": {},
     "output_type": "execute_result"
    }
   ],
   "source": [
    "enc.fit(X)"
   ]
  },
  {
   "cell_type": "code",
   "execution_count": 5,
   "id": "7adcaa8e",
   "metadata": {},
   "outputs": [
    {
     "data": {
      "text/plain": [
       "[array(['Female', 'Male'], dtype=object), array([1, 2, 3], dtype=object)]"
      ]
     },
     "execution_count": 5,
     "metadata": {},
     "output_type": "execute_result"
    }
   ],
   "source": [
    "enc.categories_"
   ]
  },
  {
   "cell_type": "code",
   "execution_count": 6,
   "id": "8a4b47aa",
   "metadata": {},
   "outputs": [
    {
     "data": {
      "text/plain": [
       "array([[1., 0., 1., 0., 0.],\n",
       "       [0., 1., 0., 0., 0.]])"
      ]
     },
     "execution_count": 6,
     "metadata": {},
     "output_type": "execute_result"
    }
   ],
   "source": [
    "enc.transform([['Female', 1], ['Male', 4]]).toarray()"
   ]
  },
  {
   "cell_type": "code",
   "execution_count": 7,
   "id": "ec0704f7",
   "metadata": {},
   "outputs": [
    {
     "data": {
      "text/plain": [
       "array([['Male', 1],\n",
       "       [None, 2]], dtype=object)"
      ]
     },
     "execution_count": 7,
     "metadata": {},
     "output_type": "execute_result"
    }
   ],
   "source": [
    "enc.inverse_transform([[0, 1, 1, 0, 0], [0, 0, 0, 1, 0]])"
   ]
  },
  {
   "cell_type": "code",
   "execution_count": 9,
   "id": "11f008ae",
   "metadata": {},
   "outputs": [
    {
     "data": {
      "text/plain": [
       "array(['gender_Female', 'gender_Male', 'group_1', 'group_2', 'group_3'],\n",
       "      dtype=object)"
      ]
     },
     "execution_count": 9,
     "metadata": {},
     "output_type": "execute_result"
    }
   ],
   "source": [
    "enc.get_feature_names_out(['gender', 'group'])"
   ]
  },
  {
   "cell_type": "code",
   "execution_count": null,
   "id": "ba091842",
   "metadata": {},
   "outputs": [],
   "source": []
  },
  {
   "cell_type": "code",
   "execution_count": 50,
   "id": "26e3c5a0",
   "metadata": {},
   "outputs": [],
   "source": [
    "data = np.array([[1, 'cat', 4],\n",
    "                 [2, 'dog', 2],\n",
    "                 [3, 'cat', 0],\n",
    "                 [4, 'bird', 1]])"
   ]
  },
  {
   "cell_type": "code",
   "execution_count": 51,
   "id": "770128c1",
   "metadata": {},
   "outputs": [],
   "source": [
    "column_to_encode = 1\n",
    "data_to_encode = data[:, column_to_encode].reshape(-1, 1)"
   ]
  },
  {
   "cell_type": "code",
   "execution_count": 52,
   "id": "3796023a",
   "metadata": {},
   "outputs": [
    {
     "data": {
      "text/plain": [
       "array([['cat'],\n",
       "       ['dog'],\n",
       "       ['cat'],\n",
       "       ['bird']], dtype='<U21')"
      ]
     },
     "execution_count": 52,
     "metadata": {},
     "output_type": "execute_result"
    }
   ],
   "source": [
    "data_to_encode"
   ]
  },
  {
   "cell_type": "code",
   "execution_count": 53,
   "id": "b3836780",
   "metadata": {},
   "outputs": [],
   "source": [
    "encoder = OneHotEncoder()\n",
    "encoded_data = encoder.fit_transform(data_to_encode)"
   ]
  },
  {
   "cell_type": "markdown",
   "id": "b8be36fc",
   "metadata": {},
   "source": [
    "### test on sklearn"
   ]
  },
  {
   "cell_type": "code",
   "execution_count": 27,
   "id": "cf868825",
   "metadata": {},
   "outputs": [],
   "source": [
    "enc_season = OneHotEncoder()"
   ]
  },
  {
   "cell_type": "code",
   "execution_count": 35,
   "id": "863bec96",
   "metadata": {},
   "outputs": [],
   "source": [
    "season_data = {'season':['spring','summer','autumn','winter']}\n",
    "df_season = pd.DataFrame(season_data)"
   ]
  },
  {
   "cell_type": "code",
   "execution_count": 36,
   "id": "cebd1592",
   "metadata": {},
   "outputs": [
    {
     "data": {
      "text/html": [
       "<style>#sk-container-id-4 {color: black;background-color: white;}#sk-container-id-4 pre{padding: 0;}#sk-container-id-4 div.sk-toggleable {background-color: white;}#sk-container-id-4 label.sk-toggleable__label {cursor: pointer;display: block;width: 100%;margin-bottom: 0;padding: 0.3em;box-sizing: border-box;text-align: center;}#sk-container-id-4 label.sk-toggleable__label-arrow:before {content: \"▸\";float: left;margin-right: 0.25em;color: #696969;}#sk-container-id-4 label.sk-toggleable__label-arrow:hover:before {color: black;}#sk-container-id-4 div.sk-estimator:hover label.sk-toggleable__label-arrow:before {color: black;}#sk-container-id-4 div.sk-toggleable__content {max-height: 0;max-width: 0;overflow: hidden;text-align: left;background-color: #f0f8ff;}#sk-container-id-4 div.sk-toggleable__content pre {margin: 0.2em;color: black;border-radius: 0.25em;background-color: #f0f8ff;}#sk-container-id-4 input.sk-toggleable__control:checked~div.sk-toggleable__content {max-height: 200px;max-width: 100%;overflow: auto;}#sk-container-id-4 input.sk-toggleable__control:checked~label.sk-toggleable__label-arrow:before {content: \"▾\";}#sk-container-id-4 div.sk-estimator input.sk-toggleable__control:checked~label.sk-toggleable__label {background-color: #d4ebff;}#sk-container-id-4 div.sk-label input.sk-toggleable__control:checked~label.sk-toggleable__label {background-color: #d4ebff;}#sk-container-id-4 input.sk-hidden--visually {border: 0;clip: rect(1px 1px 1px 1px);clip: rect(1px, 1px, 1px, 1px);height: 1px;margin: -1px;overflow: hidden;padding: 0;position: absolute;width: 1px;}#sk-container-id-4 div.sk-estimator {font-family: monospace;background-color: #f0f8ff;border: 1px dotted black;border-radius: 0.25em;box-sizing: border-box;margin-bottom: 0.5em;}#sk-container-id-4 div.sk-estimator:hover {background-color: #d4ebff;}#sk-container-id-4 div.sk-parallel-item::after {content: \"\";width: 100%;border-bottom: 1px solid gray;flex-grow: 1;}#sk-container-id-4 div.sk-label:hover label.sk-toggleable__label {background-color: #d4ebff;}#sk-container-id-4 div.sk-serial::before {content: \"\";position: absolute;border-left: 1px solid gray;box-sizing: border-box;top: 0;bottom: 0;left: 50%;z-index: 0;}#sk-container-id-4 div.sk-serial {display: flex;flex-direction: column;align-items: center;background-color: white;padding-right: 0.2em;padding-left: 0.2em;position: relative;}#sk-container-id-4 div.sk-item {position: relative;z-index: 1;}#sk-container-id-4 div.sk-parallel {display: flex;align-items: stretch;justify-content: center;background-color: white;position: relative;}#sk-container-id-4 div.sk-item::before, #sk-container-id-4 div.sk-parallel-item::before {content: \"\";position: absolute;border-left: 1px solid gray;box-sizing: border-box;top: 0;bottom: 0;left: 50%;z-index: -1;}#sk-container-id-4 div.sk-parallel-item {display: flex;flex-direction: column;z-index: 1;position: relative;background-color: white;}#sk-container-id-4 div.sk-parallel-item:first-child::after {align-self: flex-end;width: 50%;}#sk-container-id-4 div.sk-parallel-item:last-child::after {align-self: flex-start;width: 50%;}#sk-container-id-4 div.sk-parallel-item:only-child::after {width: 0;}#sk-container-id-4 div.sk-dashed-wrapped {border: 1px dashed gray;margin: 0 0.4em 0.5em 0.4em;box-sizing: border-box;padding-bottom: 0.4em;background-color: white;}#sk-container-id-4 div.sk-label label {font-family: monospace;font-weight: bold;display: inline-block;line-height: 1.2em;}#sk-container-id-4 div.sk-label-container {text-align: center;}#sk-container-id-4 div.sk-container {/* jupyter's `normalize.less` sets `[hidden] { display: none; }` but bootstrap.min.css set `[hidden] { display: none !important; }` so we also need the `!important` here to be able to override the default hidden behavior on the sphinx rendered scikit-learn.org. See: https://github.com/scikit-learn/scikit-learn/issues/21755 */display: inline-block !important;position: relative;}#sk-container-id-4 div.sk-text-repr-fallback {display: none;}</style><div id=\"sk-container-id-4\" class=\"sk-top-container\"><div class=\"sk-text-repr-fallback\"><pre>OneHotEncoder()</pre><b>In a Jupyter environment, please rerun this cell to show the HTML representation or trust the notebook. <br />On GitHub, the HTML representation is unable to render, please try loading this page with nbviewer.org.</b></div><div class=\"sk-container\" hidden><div class=\"sk-item\"><div class=\"sk-estimator sk-toggleable\"><input class=\"sk-toggleable__control sk-hidden--visually\" id=\"sk-estimator-id-4\" type=\"checkbox\" checked><label for=\"sk-estimator-id-4\" class=\"sk-toggleable__label sk-toggleable__label-arrow\">OneHotEncoder</label><div class=\"sk-toggleable__content\"><pre>OneHotEncoder()</pre></div></div></div></div></div>"
      ],
      "text/plain": [
       "OneHotEncoder()"
      ]
     },
     "execution_count": 36,
     "metadata": {},
     "output_type": "execute_result"
    }
   ],
   "source": [
    "enc_season.fit(df_season)"
   ]
  },
  {
   "cell_type": "code",
   "execution_count": 38,
   "id": "22aad29d",
   "metadata": {},
   "outputs": [
    {
     "data": {
      "text/plain": [
       "[array(['autumn', 'spring', 'summer', 'winter'], dtype=object)]"
      ]
     },
     "execution_count": 38,
     "metadata": {},
     "output_type": "execute_result"
    }
   ],
   "source": [
    "enc_season.categories_"
   ]
  },
  {
   "cell_type": "code",
   "execution_count": 37,
   "id": "47ce869c",
   "metadata": {},
   "outputs": [
    {
     "data": {
      "text/plain": [
       "array(['season_autumn', 'season_spring', 'season_summer', 'season_winter'],\n",
       "      dtype=object)"
      ]
     },
     "execution_count": 37,
     "metadata": {},
     "output_type": "execute_result"
    }
   ],
   "source": [
    "enc_season.get_feature_names_out()"
   ]
  },
  {
   "cell_type": "code",
   "execution_count": 40,
   "id": "5184671d",
   "metadata": {},
   "outputs": [
    {
     "name": "stdout",
     "output_type": "stream",
     "text": [
      "[[0. 1. 0. 0.]\n",
      " [0. 0. 1. 0.]\n",
      " [1. 0. 0. 0.]\n",
      " [0. 0. 0. 1.]]\n"
     ]
    }
   ],
   "source": [
    "print(enc_season.transform(df_season).toarray())"
   ]
  },
  {
   "cell_type": "code",
   "execution_count": 54,
   "id": "7ca9ef15",
   "metadata": {},
   "outputs": [],
   "source": [
    "train_arr = np.array(train_df)"
   ]
  },
  {
   "cell_type": "code",
   "execution_count": 64,
   "id": "04dbfce3",
   "metadata": {},
   "outputs": [
    {
     "data": {
      "text/plain": [
       "array(['spring', 'summer', 'autumn'], dtype=object)"
      ]
     },
     "execution_count": 64,
     "metadata": {},
     "output_type": "execute_result"
    }
   ],
   "source": [
    "train_arr[0:3,0]"
   ]
  },
  {
   "cell_type": "code",
   "execution_count": 65,
   "id": "75e487a0",
   "metadata": {},
   "outputs": [],
   "source": [
    "column_to_encode = 0\n",
    "data_to_encode = train_arr[:, column_to_encode].reshape(-1, 1)"
   ]
  },
  {
   "cell_type": "code",
   "execution_count": 66,
   "id": "204f8ab0",
   "metadata": {},
   "outputs": [],
   "source": [
    "encoder = OneHotEncoder()\n",
    "encoded_data = encoder.fit_transform(data_to_encode)"
   ]
  },
  {
   "cell_type": "code",
   "execution_count": 67,
   "id": "c37ffeb5",
   "metadata": {},
   "outputs": [],
   "source": [
    "new_data = np.concatenate((train_arr[:, :column_to_encode],\n",
    "                            encoded_data.toarray(),\n",
    "                            train_arr[:, column_to_encode+1:]), axis=1)"
   ]
  },
  {
   "cell_type": "code",
   "execution_count": 68,
   "id": "7202f80a",
   "metadata": {},
   "outputs": [
    {
     "data": {
      "text/plain": [
       "array([[0.0, 1.0, 0.0, ..., -3.931031226630509, nan, -3.238196806151894],\n",
       "       [0.0, 0.0, 1.0, ..., nan, nan, -3.212894038068976],\n",
       "       [1.0, 0.0, 0.0, ..., -4.07384968174626, nan, -3.1140608060213903],\n",
       "       ...,\n",
       "       [0.0, 0.0, 1.0, ..., -1.4993613445447886, 3.110638067512592,\n",
       "        2.230252561735496],\n",
       "       [1.0, 0.0, 0.0, ..., -1.5477160129737388, 3.105416529245648,\n",
       "        1.989139721317721],\n",
       "       [0.0, 0.0, 0.0, ..., nan, 3.272815718725681, 2.080666809994271]],\n",
       "      dtype=object)"
      ]
     },
     "execution_count": 68,
     "metadata": {},
     "output_type": "execute_result"
    }
   ],
   "source": [
    "new_data"
   ]
  },
  {
   "cell_type": "markdown",
   "id": "257423c0",
   "metadata": {},
   "source": [
    "## def"
   ]
  },
  {
   "cell_type": "code",
   "execution_count": 12,
   "id": "3bd733e4",
   "metadata": {},
   "outputs": [],
   "source": [
    "def oneHot_encoding(data:pd.DataFrame) -> pd.DataFrame:\n",
    "    N = data.shape[0]\n",
    "    season_encoding_ndarry = np.zeros((N, 4))\n",
    "    seasons = ['spring', 'summer', 'autumn', 'winter']\n",
    "\n",
    "    for i in range(N):\n",
    "        season = [j for j in range(4) if seasons[j] == data['season'][i]]\n",
    "        assert(len(season) == 1)\n",
    "        season_encoding_ndarry[i][season[0]] = 1\n",
    "\n",
    "    season_encoding_df = pd.DataFrame(data=season_encoding_ndarry, columns=seasons)\n",
    "    price_df = data.drop(['season'],axis=1)\n",
    "    encoded_data_df = pd.concat([season_encoding_df, price_df], axis=1)\n",
    "    return encoded_data_df"
   ]
  },
  {
   "cell_type": "markdown",
   "id": "52c257d0",
   "metadata": {},
   "source": [
    "### Test on def"
   ]
  },
  {
   "cell_type": "code",
   "execution_count": 18,
   "id": "d99f9a3d",
   "metadata": {},
   "outputs": [
    {
     "name": "stdout",
     "output_type": "stream",
     "text": [
      "Training data:\n",
      "Shape: (900, 11)\n",
      "   season  price_AUS  price_CHF  price_CZE  price_GER  price_ESP  price_FRA  \\\n",
      "0  spring        NaN   9.644028  -1.686248  -1.748076  -3.666005        NaN   \n",
      "1  summer        NaN   7.246061  -2.132377  -2.054363  -3.295697  -4.104759   \n",
      "2  autumn  -2.101937   7.620085  -1.910282        NaN  -3.388777        NaN   \n",
      "3  winter  -2.098475   8.411894  -1.903834        NaN  -3.588235        NaN   \n",
      "4  spring  -1.969687   8.926884  -1.697257  -1.331049        NaN  -3.911096   \n",
      "\n",
      "   price_UK  price_ITA  price_POL  price_SVK  \n",
      "0 -1.822720  -3.931031        NaN  -3.238197  \n",
      "1 -1.826021        NaN        NaN  -3.212894  \n",
      "2 -2.034409  -4.073850        NaN  -3.114061  \n",
      "3 -2.214720  -4.018620  -2.330803        NaN  \n",
      "4 -2.388092  -4.093946        NaN        NaN  \n",
      "\n",
      "\n"
     ]
    }
   ],
   "source": [
    "  print(\"Training data:\")\n",
    "    print(\"Shape:\", train_df.shape)\n",
    "    print(train_df.head(5))\n",
    "    print('\\n')"
   ]
  },
  {
   "cell_type": "code",
   "execution_count": 74,
   "id": "62ab1e5b",
   "metadata": {},
   "outputs": [],
   "source": [
    "encoded_train_df = oneHot_encoding(train_df)\n",
    "encoded_test_df = oneHot_encoding(test_df)"
   ]
  },
  {
   "cell_type": "code",
   "execution_count": 17,
   "id": "9dc8ec5b",
   "metadata": {},
   "outputs": [
    {
     "name": "stdout",
     "output_type": "stream",
     "text": [
      "Training data:\n",
      "Shape: (900, 14)\n",
      "   spring  summer  autumn  winter  price_AUS  price_CHF  price_CZE  price_GER  \\\n",
      "0     1.0     0.0     0.0     0.0        NaN   9.644028  -1.686248  -1.748076   \n",
      "1     0.0     1.0     0.0     0.0        NaN   7.246061  -2.132377  -2.054363   \n",
      "2     0.0     0.0     1.0     0.0  -2.101937   7.620085  -1.910282        NaN   \n",
      "3     0.0     0.0     0.0     1.0  -2.098475   8.411894  -1.903834        NaN   \n",
      "4     1.0     0.0     0.0     0.0  -1.969687   8.926884  -1.697257  -1.331049   \n",
      "\n",
      "   price_ESP  price_FRA  price_UK  price_ITA  price_POL  price_SVK  \n",
      "0  -3.666005        NaN -1.822720  -3.931031        NaN  -3.238197  \n",
      "1  -3.295697  -4.104759 -1.826021        NaN        NaN  -3.212894  \n",
      "2  -3.388777        NaN -2.034409  -4.073850        NaN  -3.114061  \n",
      "3  -3.588235        NaN -2.214720  -4.018620  -2.330803        NaN  \n",
      "4        NaN  -3.911096 -2.388092  -4.093946        NaN        NaN  \n",
      "\n",
      "\n"
     ]
    }
   ],
   "source": [
    "encoded_train_df\n",
    "print(\"Training data:\")\n",
    "print(\"Shape:\", encoded_train_df.shape)\n",
    "print(encoded_train_df.head(5))\n",
    "print('\\n')"
   ]
  },
  {
   "cell_type": "markdown",
   "id": "48cf117d",
   "metadata": {},
   "source": [
    "## imputation"
   ]
  },
  {
   "cell_type": "code",
   "execution_count": 77,
   "id": "64d35991",
   "metadata": {},
   "outputs": [],
   "source": [
    "    imputer = KNNImputer(n_neighbors=10, weights=\"uniform\")\n",
    "\n",
    "    imputed_train = imputer.fit_transform(encoded_train_df)\n",
    "    imputed_test = imputer.fit_transform(encoded_test_df)"
   ]
  },
  {
   "cell_type": "code",
   "execution_count": null,
   "id": "f34c604c",
   "metadata": {},
   "outputs": [],
   "source": []
  }
 ],
 "metadata": {
  "kernelspec": {
   "display_name": "Python [conda env:PAIML]",
   "language": "python",
   "name": "conda-env-PAIML-py"
  },
  "language_info": {
   "codemirror_mode": {
    "name": "ipython",
    "version": 3
   },
   "file_extension": ".py",
   "mimetype": "text/x-python",
   "name": "python",
   "nbconvert_exporter": "python",
   "pygments_lexer": "ipython3",
   "version": "3.9.16"
  }
 },
 "nbformat": 4,
 "nbformat_minor": 5
}
