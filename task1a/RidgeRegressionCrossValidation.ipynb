{
 "cells": [
  {
   "cell_type": "code",
   "execution_count": 11,
   "id": "cc175195",
   "metadata": {},
   "outputs": [],
   "source": [
    "import numpy as np\n",
    "import pandas as pd\n",
    "import sklearn\n",
    "from math import sqrt\n",
    "from sklearn.model_selection import KFold\n",
    "from sklearn.linear_model import LinearRegression, Ridge, RidgeCV\n",
    "from sklearn.model_selection import cross_val_score, GridSearchCV, KFold\n",
    "from sklearn.metrics import mean_squared_error"
   ]
  },
  {
   "cell_type": "code",
   "execution_count": 2,
   "id": "67e8c246",
   "metadata": {},
   "outputs": [
    {
     "name": "stdout",
     "output_type": "stream",
     "text": [
      "         x1   x2     x3   x4     x5     x6     x7      x8    x9    x10   x11  \\\n",
      "0   0.06724  0.0   3.24  0.0  0.460  6.333   17.2  5.2146   4.0  430.0  16.9   \n",
      "1   9.23230  0.0  18.10  0.0  0.631  6.216  100.0  1.1691  24.0  666.0  20.2   \n",
      "2   0.11425  0.0  13.89  1.0  0.550  6.373   92.4  3.3633   5.0  276.0  16.4   \n",
      "3  24.80170  0.0  18.10  0.0  0.693  5.349   96.0  1.7028  24.0  666.0  20.2   \n",
      "4   0.05646  0.0  12.83  0.0  0.437  6.232   53.7  5.0141   5.0  398.0  18.7   \n",
      "\n",
      "      x12    x13  \n",
      "0  375.21   7.34  \n",
      "1  366.15   9.53  \n",
      "2  393.74  10.50  \n",
      "3  396.90  19.77  \n",
      "4  386.40  12.34  \n"
     ]
    }
   ],
   "source": [
    "    # Data loading\n",
    "    data = pd.read_csv(\"train.csv\")\n",
    "    y = data[\"y\"].to_numpy()\n",
    "    data = data.drop(columns=\"y\")\n",
    "    # print a few data samples\n",
    "    print(data.head())\n",
    "\n",
    "    X = data.to_numpy()\n",
    "    # The function calculating the average RMSE\n",
    "    lambdas = [0.1, 1, 10, 100, 200]\n",
    "    n_folds = 10"
   ]
  },
  {
   "cell_type": "markdown",
   "id": "4df65a91",
   "metadata": {},
   "source": [
    "## Ridge Regression"
   ]
  },
  {
   "cell_type": "code",
   "execution_count": 12,
   "id": "f96eaab7",
   "metadata": {},
   "outputs": [
    {
     "data": {
      "text/html": [
       "<style>#sk-container-id-1 {color: black;background-color: white;}#sk-container-id-1 pre{padding: 0;}#sk-container-id-1 div.sk-toggleable {background-color: white;}#sk-container-id-1 label.sk-toggleable__label {cursor: pointer;display: block;width: 100%;margin-bottom: 0;padding: 0.3em;box-sizing: border-box;text-align: center;}#sk-container-id-1 label.sk-toggleable__label-arrow:before {content: \"▸\";float: left;margin-right: 0.25em;color: #696969;}#sk-container-id-1 label.sk-toggleable__label-arrow:hover:before {color: black;}#sk-container-id-1 div.sk-estimator:hover label.sk-toggleable__label-arrow:before {color: black;}#sk-container-id-1 div.sk-toggleable__content {max-height: 0;max-width: 0;overflow: hidden;text-align: left;background-color: #f0f8ff;}#sk-container-id-1 div.sk-toggleable__content pre {margin: 0.2em;color: black;border-radius: 0.25em;background-color: #f0f8ff;}#sk-container-id-1 input.sk-toggleable__control:checked~div.sk-toggleable__content {max-height: 200px;max-width: 100%;overflow: auto;}#sk-container-id-1 input.sk-toggleable__control:checked~label.sk-toggleable__label-arrow:before {content: \"▾\";}#sk-container-id-1 div.sk-estimator input.sk-toggleable__control:checked~label.sk-toggleable__label {background-color: #d4ebff;}#sk-container-id-1 div.sk-label input.sk-toggleable__control:checked~label.sk-toggleable__label {background-color: #d4ebff;}#sk-container-id-1 input.sk-hidden--visually {border: 0;clip: rect(1px 1px 1px 1px);clip: rect(1px, 1px, 1px, 1px);height: 1px;margin: -1px;overflow: hidden;padding: 0;position: absolute;width: 1px;}#sk-container-id-1 div.sk-estimator {font-family: monospace;background-color: #f0f8ff;border: 1px dotted black;border-radius: 0.25em;box-sizing: border-box;margin-bottom: 0.5em;}#sk-container-id-1 div.sk-estimator:hover {background-color: #d4ebff;}#sk-container-id-1 div.sk-parallel-item::after {content: \"\";width: 100%;border-bottom: 1px solid gray;flex-grow: 1;}#sk-container-id-1 div.sk-label:hover label.sk-toggleable__label {background-color: #d4ebff;}#sk-container-id-1 div.sk-serial::before {content: \"\";position: absolute;border-left: 1px solid gray;box-sizing: border-box;top: 0;bottom: 0;left: 50%;z-index: 0;}#sk-container-id-1 div.sk-serial {display: flex;flex-direction: column;align-items: center;background-color: white;padding-right: 0.2em;padding-left: 0.2em;position: relative;}#sk-container-id-1 div.sk-item {position: relative;z-index: 1;}#sk-container-id-1 div.sk-parallel {display: flex;align-items: stretch;justify-content: center;background-color: white;position: relative;}#sk-container-id-1 div.sk-item::before, #sk-container-id-1 div.sk-parallel-item::before {content: \"\";position: absolute;border-left: 1px solid gray;box-sizing: border-box;top: 0;bottom: 0;left: 50%;z-index: -1;}#sk-container-id-1 div.sk-parallel-item {display: flex;flex-direction: column;z-index: 1;position: relative;background-color: white;}#sk-container-id-1 div.sk-parallel-item:first-child::after {align-self: flex-end;width: 50%;}#sk-container-id-1 div.sk-parallel-item:last-child::after {align-self: flex-start;width: 50%;}#sk-container-id-1 div.sk-parallel-item:only-child::after {width: 0;}#sk-container-id-1 div.sk-dashed-wrapped {border: 1px dashed gray;margin: 0 0.4em 0.5em 0.4em;box-sizing: border-box;padding-bottom: 0.4em;background-color: white;}#sk-container-id-1 div.sk-label label {font-family: monospace;font-weight: bold;display: inline-block;line-height: 1.2em;}#sk-container-id-1 div.sk-label-container {text-align: center;}#sk-container-id-1 div.sk-container {/* jupyter's `normalize.less` sets `[hidden] { display: none; }` but bootstrap.min.css set `[hidden] { display: none !important; }` so we also need the `!important` here to be able to override the default hidden behavior on the sphinx rendered scikit-learn.org. See: https://github.com/scikit-learn/scikit-learn/issues/21755 */display: inline-block !important;position: relative;}#sk-container-id-1 div.sk-text-repr-fallback {display: none;}</style><div id=\"sk-container-id-1\" class=\"sk-top-container\"><div class=\"sk-text-repr-fallback\"><pre>Ridge(alpha=10, fit_intercept=False)</pre><b>In a Jupyter environment, please rerun this cell to show the HTML representation or trust the notebook. <br />On GitHub, the HTML representation is unable to render, please try loading this page with nbviewer.org.</b></div><div class=\"sk-container\" hidden><div class=\"sk-item\"><div class=\"sk-estimator sk-toggleable\"><input class=\"sk-toggleable__control sk-hidden--visually\" id=\"sk-estimator-id-1\" type=\"checkbox\" checked><label for=\"sk-estimator-id-1\" class=\"sk-toggleable__label sk-toggleable__label-arrow\">Ridge</label><div class=\"sk-toggleable__content\"><pre>Ridge(alpha=10, fit_intercept=False)</pre></div></div></div></div></div>"
      ],
      "text/plain": [
       "Ridge(alpha=10, fit_intercept=False)"
      ]
     },
     "execution_count": 12,
     "metadata": {},
     "output_type": "execute_result"
    }
   ],
   "source": [
    "lam = 10\n",
    "ridge_reg = Ridge(alpha=lam, fit_intercept=False)\n",
    "ridge_reg.fit(X, y)"
   ]
  },
  {
   "cell_type": "code",
   "execution_count": 14,
   "id": "e9b3fb43",
   "metadata": {},
   "outputs": [],
   "source": [
    "weight = ridge_reg.coef_"
   ]
  },
  {
   "cell_type": "code",
   "execution_count": 7,
   "id": "633016ad",
   "metadata": {},
   "outputs": [],
   "source": [
    "def fit(X, y, lam):\n",
    "    \"\"\"\n",
    "    This function receives training data points, then fits the ridge regression on this data\n",
    "    with regularization hyperparameter lambda. The weights w of the fitted ridge regression\n",
    "    are returned. \n",
    "\n",
    "    Parameters\n",
    "    ----------\n",
    "    X: matrix of floats, dim = (135,13), inputs with 13 features\n",
    "    y: array of floats, dim = (135,), input labels)\n",
    "    lam: float. lambda parameter, used in regularization term\n",
    "\n",
    "    Returns\n",
    "    ----------\n",
    "    w: array of floats: dim = (13,), optimal parameters of ridge regression\n",
    "    \"\"\"\n",
    "    w = np.zeros((13,))\n",
    "    # TODO: Enter your code here\n",
    "    ridge_reg = Ridge(alpha=lam, fit_intercept=False)\n",
    "    ridge_reg.fit(X, y)\n",
    "    w = ridge_reg.coef_\n",
    "    assert w.shape == (13,)\n",
    "    return w"
   ]
  },
  {
   "cell_type": "markdown",
   "id": "305b3cf5",
   "metadata": {},
   "source": [
    "## RMSE calculation "
   ]
  },
  {
   "cell_type": "code",
   "execution_count": 15,
   "id": "cc9e2a08",
   "metadata": {},
   "outputs": [],
   "source": [
    "y_pred = X @ weight"
   ]
  },
  {
   "cell_type": "code",
   "execution_count": 17,
   "id": "7dbc99d3",
   "metadata": {},
   "outputs": [
    {
     "data": {
      "text/plain": [
       "array([22.47652743, 28.09462906, 28.27531372, 16.78885934, 20.38754371,\n",
       "       21.8433147 , 23.69102573, 23.40499324, 15.48799846, 17.26113455,\n",
       "        8.62968044, 14.79972515, 21.64998375,  8.15499288, 40.34628512,\n",
       "       30.4718876 , 25.97861593, 33.71715664, 29.0437528 , 22.92333565,\n",
       "       26.34341165, 21.59909951, 21.00441299, 28.73706395, 20.40092776,\n",
       "        8.88359441, 19.90998603, 16.95336449, 36.6701652 , 19.47268046,\n",
       "       21.87822653, 23.46173735, 22.53037   , 22.60028316, 27.53798471,\n",
       "       23.78612356, 15.36641136, 28.15352104, 16.34064785, 16.25992576,\n",
       "       23.14058251, 18.2929856 , 20.18073028, 17.5169488 , 22.37565322,\n",
       "       25.24171494, 17.10325956, 22.38413979,  7.35791191, 26.51967117,\n",
       "       17.06613923, 15.62477873, 23.13259809, 34.82812365, 13.54808085,\n",
       "       18.42113202, 18.00513886, 15.82211995, 15.54675493, 20.59699793,\n",
       "       19.42104932, 21.41311297, 31.47994113, 30.23590294, 20.72428951,\n",
       "       29.40465413, 23.88610209, 18.28672515, 19.85558841, 21.15671092,\n",
       "       21.67032987, 22.95349915, 28.56736319, 29.98306461, 30.56630492,\n",
       "        7.18056469, 39.0201928 , 23.50064963, 25.88998557, 19.44960009,\n",
       "       27.68172619, 21.87323291, 22.55773641, 39.79707062, 41.67858764,\n",
       "       25.38881473, 22.69729599, 13.1970505 , 28.48353025, 20.63648683,\n",
       "       16.79061168, 14.56210739, 24.07393884, 30.0419452 , 24.45852701,\n",
       "       21.94313643, -0.16535217, 26.47160308, 16.05775071, 19.88522056,\n",
       "       24.40818989, 24.06805668, 32.10577426, 20.21792826, 26.75936582,\n",
       "       21.80921998,  5.99054532, 17.78336974, 24.15028163, 26.53408666,\n",
       "       32.2523807 , 12.88870423, 18.57135035, 17.84128328,  8.69385742,\n",
       "       21.57559168,  3.25341074, 23.24411014, 11.98776151, 41.39415097,\n",
       "       29.10845066, 15.40132724, 16.05204461, 21.49646034, 23.55662789,\n",
       "       19.69803961, 36.1848131 , 14.27828301, 23.16519427, 34.79507486,\n",
       "       24.50466596, 11.8345165 , 14.07995236, 18.73991707, 14.28121139,\n",
       "       33.51517445, 23.97733506, 13.20360148, 26.39506393,  8.03730776,\n",
       "       19.36755111, 20.12971905, 32.48510401, 27.5720381 , 23.87222493,\n",
       "       17.79078131, 30.91346344, 30.27182847, 13.29158771,  9.77825941])"
      ]
     },
     "execution_count": 17,
     "metadata": {},
     "output_type": "execute_result"
    }
   ],
   "source": [
    "y_pred"
   ]
  },
  {
   "cell_type": "code",
   "execution_count": 18,
   "id": "0ee1be62",
   "metadata": {},
   "outputs": [],
   "source": [
    "rmse = sqrt(np.sum(y - y_pred) ** 2)"
   ]
  },
  {
   "cell_type": "code",
   "execution_count": 23,
   "id": "3a14edfd",
   "metadata": {},
   "outputs": [
    {
     "data": {
      "text/plain": [
       "8.11415404528594"
      ]
     },
     "execution_count": 23,
     "metadata": {},
     "output_type": "execute_result"
    }
   ],
   "source": [
    "rmse"
   ]
  },
  {
   "cell_type": "code",
   "execution_count": 19,
   "id": "69582017",
   "metadata": {},
   "outputs": [],
   "source": [
    "y_pred = np.matmul(X, weight)"
   ]
  },
  {
   "cell_type": "code",
   "execution_count": 21,
   "id": "8bbb69a5",
   "metadata": {},
   "outputs": [
    {
     "data": {
      "text/plain": [
       "array([22.47652743, 28.09462906, 28.27531372, 16.78885934, 20.38754371,\n",
       "       21.8433147 , 23.69102573, 23.40499324, 15.48799846, 17.26113455,\n",
       "        8.62968044, 14.79972515, 21.64998375,  8.15499288, 40.34628512,\n",
       "       30.4718876 , 25.97861593, 33.71715664, 29.0437528 , 22.92333565,\n",
       "       26.34341165, 21.59909951, 21.00441299, 28.73706395, 20.40092776,\n",
       "        8.88359441, 19.90998603, 16.95336449, 36.6701652 , 19.47268046,\n",
       "       21.87822653, 23.46173735, 22.53037   , 22.60028316, 27.53798471,\n",
       "       23.78612356, 15.36641136, 28.15352104, 16.34064785, 16.25992576,\n",
       "       23.14058251, 18.2929856 , 20.18073028, 17.5169488 , 22.37565322,\n",
       "       25.24171494, 17.10325956, 22.38413979,  7.35791191, 26.51967117,\n",
       "       17.06613923, 15.62477873, 23.13259809, 34.82812365, 13.54808085,\n",
       "       18.42113202, 18.00513886, 15.82211995, 15.54675493, 20.59699793,\n",
       "       19.42104932, 21.41311297, 31.47994113, 30.23590294, 20.72428951,\n",
       "       29.40465413, 23.88610209, 18.28672515, 19.85558841, 21.15671092,\n",
       "       21.67032987, 22.95349915, 28.56736319, 29.98306461, 30.56630492,\n",
       "        7.18056469, 39.0201928 , 23.50064963, 25.88998557, 19.44960009,\n",
       "       27.68172619, 21.87323291, 22.55773641, 39.79707062, 41.67858764,\n",
       "       25.38881473, 22.69729599, 13.1970505 , 28.48353025, 20.63648683,\n",
       "       16.79061168, 14.56210739, 24.07393884, 30.0419452 , 24.45852701,\n",
       "       21.94313643, -0.16535217, 26.47160308, 16.05775071, 19.88522056,\n",
       "       24.40818989, 24.06805668, 32.10577426, 20.21792826, 26.75936582,\n",
       "       21.80921998,  5.99054532, 17.78336974, 24.15028163, 26.53408666,\n",
       "       32.2523807 , 12.88870423, 18.57135035, 17.84128328,  8.69385742,\n",
       "       21.57559168,  3.25341074, 23.24411014, 11.98776151, 41.39415097,\n",
       "       29.10845066, 15.40132724, 16.05204461, 21.49646034, 23.55662789,\n",
       "       19.69803961, 36.1848131 , 14.27828301, 23.16519427, 34.79507486,\n",
       "       24.50466596, 11.8345165 , 14.07995236, 18.73991707, 14.28121139,\n",
       "       33.51517445, 23.97733506, 13.20360148, 26.39506393,  8.03730776,\n",
       "       19.36755111, 20.12971905, 32.48510401, 27.5720381 , 23.87222493,\n",
       "       17.79078131, 30.91346344, 30.27182847, 13.29158771,  9.77825941])"
      ]
     },
     "execution_count": 21,
     "metadata": {},
     "output_type": "execute_result"
    }
   ],
   "source": [
    "y_pred"
   ]
  },
  {
   "cell_type": "code",
   "execution_count": 20,
   "id": "2b175b6b",
   "metadata": {},
   "outputs": [],
   "source": [
    "RMSE = mean_squared_error(y, y_pred, squared=False)"
   ]
  },
  {
   "cell_type": "code",
   "execution_count": 22,
   "id": "623b56d5",
   "metadata": {},
   "outputs": [
    {
     "data": {
      "text/plain": [
       "5.064693241230028"
      ]
     },
     "execution_count": 22,
     "metadata": {},
     "output_type": "execute_result"
    }
   ],
   "source": [
    "RMSE"
   ]
  },
  {
   "cell_type": "code",
   "execution_count": 5,
   "id": "58aa5c3d",
   "metadata": {},
   "outputs": [],
   "source": [
    "def calculate_RMSE(w, X, y):\n",
    "    \"\"\"This function takes test data points (X and y), and computes the empirical RMSE of \n",
    "    predicting y from X using a linear model with weights w. \n",
    "\n",
    "    Parameters\n",
    "    ----------\n",
    "    w: array of floats: dim = (13,), optimal parameters of ridge regression \n",
    "    X: matrix of floats, dim = (15,13), inputs with 13 features\n",
    "    y: array of floats, dim = (15,), input labels\n",
    "\n",
    "    Returns\n",
    "    ----------\n",
    "    RMSE: float: dim = 1, RMSE value\n",
    "    \"\"\"\n",
    "    RMSE = 0\n",
    "    # TODO: Enter your code here\n",
    "#     y_pred = X @ w\n",
    "#     RMSE = sqrt(np.sum(y - y_pred) ** 2)\n",
    "    y_pred = np.matmul(X, w)\n",
    "    RMSE = mean_squared_error(y, y_pred, squared=False)\n",
    "    assert np.isscalar(RMSE)\n",
    "    return RMSE"
   ]
  },
  {
   "cell_type": "markdown",
   "id": "744ac1be",
   "metadata": {},
   "source": [
    "##  Cross validation"
   ]
  },
  {
   "cell_type": "code",
   "execution_count": null,
   "id": "9567df2e",
   "metadata": {},
   "outputs": [],
   "source": [
    "kf = KFold(n_splits = n_folds)\n",
    "for index,train_val_index in enumerate(kf.split(X)):\n",
    "    print(train_val_index)"
   ]
  },
  {
   "cell_type": "code",
   "execution_count": null,
   "id": "c0b09f9a",
   "metadata": {},
   "outputs": [],
   "source": [
    "RMSE_mat = np.zeros((n_folds, len(lambdas)))\n",
    "for index_lam, lam in enumerate(lambdas):\n",
    "    kf = KFold(n_splits = n_folds)\n",
    "    index_Kset = 0\n",
    "    for train_index, valid_index in kf.split(X):\n",
    "        weight = fit(X[train_index], y[train_index], lam)\n",
    "        RMSE = calculate_RMSE(weight, X[valid_index], y[valid_index])\n",
    "        RMSE_mat[index_Kset, index_lam] = RMSE\n",
    "        index_Kset= index_Kset + 1"
   ]
  },
  {
   "cell_type": "code",
   "execution_count": null,
   "id": "14675480",
   "metadata": {},
   "outputs": [],
   "source": []
  },
  {
   "cell_type": "code",
   "execution_count": 9,
   "id": "10bc2dc3",
   "metadata": {},
   "outputs": [],
   "source": [
    "def average_LR_RMSE(X, y, lambdas, n_folds):\n",
    "    \"\"\"\n",
    "    Main cross-validation loop, implementing 10-fold CV. In every iteration (for every train-test split), the RMSE for every lambda is calculated, \n",
    "    and then averaged over iterations.\n",
    "    \n",
    "    Parameters\n",
    "    ---------- \n",
    "    X: matrix of floats, dim = (150, 13), inputs with 13 features\n",
    "    y: array of floats, dim = (150, ), input labels\n",
    "    lambdas: list of floats, len = 5, values of lambda for which ridge regression is fitted and RMSE estimated\n",
    "    n_folds: int, number of folds (pieces in which we split the dataset), parameter K in KFold CV\n",
    "    \n",
    "    Returns\n",
    "    ----------\n",
    "    avg_RMSE: array of floats: dim = (5,), average RMSE value for every lambda\n",
    "    \"\"\"\n",
    "    RMSE_mat = np.zeros((n_folds, len(lambdas)))\n",
    "\n",
    "    # TODO: Enter your code here. Hint: Use functions 'fit' and 'calculate_RMSE' with training and test data\n",
    "    # and fill all entries in the matrix 'RMSE_mat'\n",
    "    for index_lam, lam in enumerate(lambdas):\n",
    "        kf = KFold(n_splits = n_folds)\n",
    "        index_kSet = 0\n",
    "        for train_index, valid_index in kf.split(X):\n",
    "            weight = fit(X[train_index], y[train_index], lam)\n",
    "            RMSE = calculate_RMSE(weight, X[valid_index], y[valid_index])\n",
    "            RMSE_mat[index_kSet, index_lam] = RMSE\n",
    "            index_kSet= index_kSet + 1\n",
    "    avg_RMSE = np.mean(RMSE_mat, axis=0)\n",
    "    assert avg_RMSE.shape == (5,)\n",
    "    return avg_RMSE"
   ]
  },
  {
   "cell_type": "code",
   "execution_count": null,
   "id": "65656c79",
   "metadata": {},
   "outputs": [],
   "source": []
  },
  {
   "cell_type": "markdown",
   "id": "62f96d53",
   "metadata": {},
   "source": [
    "## Test "
   ]
  },
  {
   "cell_type": "code",
   "execution_count": 10,
   "id": "28b52731",
   "metadata": {},
   "outputs": [],
   "source": [
    "    avg_RMSE = average_LR_RMSE(X, y, lambdas, n_folds)\n",
    "    # Save results in the required format\n",
    "    np.savetxt(\"./results.csv\", avg_RMSE, fmt=\"%.12f\")"
   ]
  },
  {
   "cell_type": "code",
   "execution_count": null,
   "id": "8fd6fef4",
   "metadata": {},
   "outputs": [],
   "source": []
  }
 ],
 "metadata": {
  "kernelspec": {
   "display_name": "Python [conda env:PAIML]",
   "language": "python",
   "name": "conda-env-PAIML-py"
  },
  "language_info": {
   "codemirror_mode": {
    "name": "ipython",
    "version": 3
   },
   "file_extension": ".py",
   "mimetype": "text/x-python",
   "name": "python",
   "nbconvert_exporter": "python",
   "pygments_lexer": "ipython3",
   "version": "3.9.16"
  }
 },
 "nbformat": 4,
 "nbformat_minor": 5
}
